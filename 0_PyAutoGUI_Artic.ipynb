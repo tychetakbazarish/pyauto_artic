{
 "cells": [
  {
   "cell_type": "code",
   "execution_count": 30,
   "metadata": {},
   "outputs": [],
   "source": [
    "import pyautogui, os"
   ]
  },
  {
   "cell_type": "code",
   "execution_count": 29,
   "metadata": {},
   "outputs": [],
   "source": [
    "failes = os.listdir('C:\\\\Users\\\\timur.sabirov\\\\Documents\\\\Рабочая\\\\Курсы\\\\1\\\\Тестовый_Анализ данных') #собирает все объекты в папке\n",
    "failes = [x for x in failes if x.find('.') < 0] #удаляет файлы из выборки, оставляя только папки\n",
    "failes.remove('плеер и фон')\n",
    "#failes"
   ]
  },
  {
   "cell_type": "code",
   "execution_count": 25,
   "metadata": {},
   "outputs": [
    {
     "name": "stdin",
     "output_type": "stream",
     "text": [
      "Наведи курсор на Articulate и нажми Enter \n"
     ]
    }
   ],
   "source": [
    "#Координаты Articulate\n",
    "tmp = input('Наведи курсор на Articulate и нажми Enter')\n",
    "x_art, y_art = pyautogui.position()\n",
    "\n",
    "#Разрешение экрана\n",
    "x_size, y_size = pyautogui.size()"
   ]
  },
  {
   "cell_type": "code",
   "execution_count": 28,
   "metadata": {},
   "outputs": [],
   "source": [
    "pyautogui.click(x_art, y_art) #переключиться на Articulate\n",
    "for i in failes:\n",
    "    #вставка изображений\n",
    "    pyautogui.hotkey('ctrl', 'j')\n",
    "    pyautogui.click(278/1920*x_size, 171/1080*y_size) #вернуться в корневую папку (заменить на CTRL + L и ссылку до корневой папки на английском)\n",
    "    pyautogui.typewrite(i)\n",
    "    pyautogui.press('enter')\n",
    "    pyautogui.hotkey('shift', 'tab')\n",
    "    pyautogui.hotkey('ctrl', 'a')\n",
    "    pyautogui.press('tab')\n",
    "    pyautogui.hotkey('ctrl', 'enter')\n",
    "    #вставка нового слайда\n",
    "    pyautogui.click(136/1920*x_size, 65/1080*y_size)\n",
    "    pyautogui.click(261/1920*x_size, 132/1080*y_size)\n",
    "    pyautogui.press(['down', 'down', 'right', 'up', 'enter'])"
   ]
  }
 ],
 "metadata": {
  "kernelspec": {
   "display_name": "Python 3",
   "language": "python",
   "name": "python3"
  },
  "language_info": {
   "codemirror_mode": {
    "name": "ipython",
    "version": 3
   },
   "file_extension": ".py",
   "mimetype": "text/x-python",
   "name": "python",
   "nbconvert_exporter": "python",
   "pygments_lexer": "ipython3",
   "version": "3.7.3"
  }
 },
 "nbformat": 4,
 "nbformat_minor": 2
}
